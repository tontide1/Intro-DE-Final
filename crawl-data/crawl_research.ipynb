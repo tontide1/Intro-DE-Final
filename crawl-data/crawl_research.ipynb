{
 "cells": [
  {
   "cell_type": "code",
   "execution_count": 1,
   "metadata": {},
   "outputs": [],
   "source": [
    "import requests\n",
    "import pandas as pd\n",
    "import csv \n",
    "from bs4 import BeautifulSoup"
   ]
  },
  {
   "cell_type": "code",
   "execution_count": 2,
   "metadata": {},
   "outputs": [
    {
     "name": "stdout",
     "output_type": "stream",
     "text": [
      "<Response [200]>\n"
     ]
    }
   ],
   "source": [
    "url ='https://fit.iuh.edu.vn/news.html@190@Cong-trinh-nghien-cuu'\n",
    "response = requests.get(url)\n",
    "print(response)"
   ]
  },
  {
   "cell_type": "code",
   "execution_count": 3,
   "metadata": {},
   "outputs": [
    {
     "name": "stdout",
     "output_type": "stream",
     "text": [
      "1. , Kenli Li: Chemical reaction optimization with greedy strategy for the 0-1 knapsack problem.Appl. Soft Comput. 135. Yuming Xu, Kenli Li, Ligang He,  Tung Khac Truong, \", A DAG scheduling scheme on heterogeneous computing systems using double molecular structure-based chemical reaction optimization, Journal of Parallel and Distributed Computing, Vol. 73, Issue 9, Sep. 2013, Pages 1306-1322, ISSN 0743-7315.\n",
      "\n",
      "Hieu Trung HuynhYuming XuKenli LiMeikang QiuHPCC-ICESS 2012: 639-646.\n",
      "\n",
      "    Hieu Trung Huynhand Yonggwan Won, \"\", Adv Exp Med Biol 696, pp. 153-143, 2011.\n",
      " \n",
      "2.Hieu Trung Huynhand Yonggwan Won, \"\"    Huỳnh Hải Âu, Bùi Thanh Phong, Trịnh Ngọc Minh, “Enhanced SOM application for intrusion detection system by anomaly behavior”, Tạp chí Khoa Học và Công Nghệ - Journal of Science and Technology, Volume 49, number 4A, 2011 Special Issue on International Conference on Advanced Computing and Applications (ACOMP 2011), Viện Khoa học và Công nghệ Việt Nam, ISSN 0866 708X, Tp. HCM, 19-21/10/2011\n",
      "4.Lê Ngọc Tấn, Trịnh Thanh Duy, Trần Thanh Phước, Đinh Điền, “Gióng hàng văn bản đa ngữ Anh-Pháp-Hoa-Việt”,  Kỷ yếu Hội Thảo Quốc Gia lần thứ XIV về Một số vấn đề chọn lọc của Công nghệ thông tin & Truyền thông chủ đề Các hệ thống hỗ trợ quyết định, Đại học Cần Thơ, 7-8/10/2011.\n",
      " \n",
      "\n",
      "Hieu Trung Huynh, The Use of Evolutionary Algorithm in Training Neural Networks for Hematocrit Estimation\", Evolutionary Computation (ISBN 978-953-307-008-7), In-Tech, Austria, pp. 375-384, October 2009.\n",
      "3. Hieu Trung Huynh and Yonggwan Won, \"Extreme Learning Machine with Fuzzy Activation Function\", the Int\\&sharp39l Joint Conference on INC, IMS and IDC (NCM2009),  IEEE Computer Society, pp. 303-307, 2009.\n",
      "4. Hieu Trung Huynh and Yonggwan Won, \"Training Single Hidden Layer Feedforward Neural Networks by Singular Value Decomposition\", the Int\\&sharp39l on Computer Sciences and Convergence Information Technology (ICCIT09), IEEE Computer Society, pp. 1300-1304, 2009.\n",
      "5. Hieu Trung Huynh and Jung-ja Kim and Yonggwan Won, \"DNA Microarray Classification using Single Hidden-Layer Feedforward Neural Networks trained by SVD\", the 2009 Int\\&sharp39l Conference on Bio-Science and Bio-Technology (BSBT2009), Springer, pp. 108-114, 2009.\n",
      "6. Hieu Trung Huynh and Yonggwan Won, \"Online Training for Single Hidden-Layer Feedforward Neural Networks using RLS-ELM\", The 2009 IEEE Int\\&sharp39l Symposium on Computational Intelligence in Robotics and Automation (CIRA2009), pp. 469-473, 2009.\n",
      "\n",
      "Hieu Trung Huynh\", IEICE Trans. on Information and Systems, vol. E91-D, no.4, pp.1042-1049, 2008.\n",
      "2. Hieu Trung Huynh, Jung-ja Kim and Yonggwan Won, \"An improvement of Extreme Learning Machine for Compact Single-Hidden Layer Feedforward neural Networks\", International Journal of Neural Systems, vol. 18, no. 5, pp.433-441, 2008.\n",
      "3. Hieu Trung Huynh and Yonggwan Won, \"Weighted Least Squares Scheme for Reducing  Effects of Outliers in Regression Based on Extreme Learning machine\", International Journal of Digital Content Technology and its Applications, vol. 3, no. 3, pp. 40-46, 2008.\n",
      "4. Hieu Trung Huynh and Yonggwan Won, \"Nonlinear Estimation Methods for Hematocrit Density based on Changing Pattern of Transduced Anodic Current Curve\", WSEAS Trans. on Information Science and Applications, vol. 5, no. 11, pp.1541-1550, 2008.\n",
      "5. Hieu Trung Huynh, Yonggwan Won and Jung-ja Kim, \"Neural Networks for the Estimation of Hematocrit from Transduced Current Curves\", The 2008 IEEE Int\\&sharp39l conference on Networking, Sensing and Control, pp.1517-1520, 2008.\n",
      "6. Hieu Trung Huynh and Yonggwan Won, \"Hematocrit Estimation from Compact Single Hidden Layer Feedforward Neural Networks trained by Evolutionary Algorithm\", The 2008 IEEE Congress on Evolutionary Computation, HongKong (2008), pp.2967-2971.\n",
      "7. Hieu Trung Huynh and Yonggwan Won, \"Evolutionary Algorithm for Training Single Hidden Layer Feedforward Neural Networks\", The 2008 IEEE Int\\&sharp39l Joint Conference on Neural Networks (IJCNN2008), HongKong (2008), pp.3028-3033.\n",
      "8. Hieu Trung Huynh and Yonggwan Won, \"Decoding Cognitive States from fMRI Data Using Single Hidden-Layer Feedforward Neural Networks\", The 4th Int\\&sharp39l Conference on Networked Computing and Advanced Information Management (NCM2008), IEEE CS, pp. 256-260, 2008.\n",
      "9. JunSeok Park, Hieu T. Huynh and Yonggwan Won, \"Support Vector Machine for Hematocrit Density Estimation based on Changing Patterns of Transduced Anodic Current\", The 2007 Int\\&sharp39l Conference on Convergence and Hybrid Information Technology (ICCIT2008), IEEE CS, pp.456-460, 2008.\n",
      "10. Hieu Trung Huynh, Jung-ja Kim and Yonggwan Won, \"Comparison of Nonlinear Methods for Hematocrit Estimation from the Transduced Anodic Current Curve\", The 10th WSEAS Int\\&sharp39l Conference on Mathematical Methods, Computational Techniques and Intelligent Systems (MAMECTUS\\&sharp3908), pp.156-161, 2008.\n",
      "11. Phạm văn Chung, Dương Tuấn Anh, “Generating Transition Graphs from  Temporal Integrity Constraints expressed as Patterned Sentences”, kỷ yếu Hội thảo khoa học Quốc gia lần thứ II: nghiên cứu cơ bản và ứng dụng công nghệ thông tin, 2005, TP.HCM, 23-24/9, 2005, trang 129-140.\n",
      "12. Phạm Văn Chung, Nguyễn Thành Sơn, Dương Tuấn Anh “ Kiểm tra ràng buộc toàn vẹn thời gian trong cơ sở dữ liệu thời gian”, Tạp chí Khoa học và Công nghệ, tháng 10 năm 2008. \n",
      "13. Phạm văn Chung “Biên dịch câu truy vấn thời gian, thực thi trên hệ quản trị cơ sở dữ liệu”, kỷ yếu Hội nghị khoa học lần thứ 3, ĐH Công nghiệp TP.HCM, 12/2008, trang  74-82.\n",
      "14. Pham Van Chung, Duong Tuan Anh  “From Checking Integrity Constraints to Temporal Abstraction for Clinical Databases”. Proceedings of   First Asian Conference on Intelligent Information and Database Systems, Dong hoi, Quang binh, Vietnam, 12-2008.\n",
      "\n",
      " Hieu Trung Huynh\", MDAI2007, Springer-Verlag, LNAI 4617, pp. 341-350, 2007.\n",
      "2.  Hieu Trung Huynh and Yonggwan Won, \"Performance Enhancement of SLFNs in Classification by Reducing Effect of Outliers\", Processdings of the 22th Int\\&sharp39l Technical Conference on Circuits/Systems, Computers and Communications, vol. 1, pp. 159-160, 2007.\n",
      "3.  Hieu Trung Huynh and Yonggwan Won, \"Two-Stage Extreme Learning Machine for SLFNs in Regression\", Processdings of the 22th Int\\&sharp39l Technical Conference on Circuits/Systems, Computers and Communications, vol. 1, pp. 161-162, 2007.\n",
      "4.  Hieu Trung Huynh, Nguyen H. Vo, Minh-Tuan T. Hoang, and Yonggwan Won, \"Outlier Treatment for SLFNs in Classification\", ICCSA07, IEEE Computer Society, pp. 104-109, 2007.\n",
      "5.  Hieu Trung Huynh and Yonggwan Won, \"DNA Microarray Classification with Compact Single Hidden-Layer FeedForward Neural Networks\", Frontiers in the Convergence of Bioscience and Information Technologies 2007 (FBIT07), IEEE Computer Society, pp. 193-198, 2007.\n",
      "6.  Minh-Tuan T. Hoang, Hieu T. Huynh, Nguyen H. Vo, Jung-Ja Kim, and Yonggwan Won, \"Two-Step Iterative Registration for 2D-Gel Electrophoresis Images\", The 2007 IEEE Conference on Research, Innovation and Vision for the Future (RIVF\\&sharp3907), pp.274-280, 2007.\n",
      "7.  Minh-Tuan T. Hoang, Hieu T. Huynh, Nguyen H. Vo, and Yonggwan Won, \"A Robust Online Sequential Extreme Learning Machine\", ISNN2007, Spinger-Verlag, LNCS 4491, pp. 1077-1086, 2007.\n",
      "8.  Hieu Trung Huynh and Yonggwan Won, \"Hematocrit Estimation from Transduced Current Patterns Using Single Hidden Layer FeedForward Neural Networks\", The 2008 Int\\&sharp39l Conference on Convergence and Hybrid Information Technology (ICCIT07), IEEE Computer Society, pp. 1384-1388, 2007.\n",
      "9.  Hieu Trung Huynh and Yonggwan Won, \"Reducing Effects of Outliers in Regression based on Extreme Learning Machine\", The 2007 Int\\&sharp39l Conference on Convergence and Hybrid Information Technology (ICCIT07), IEEE CS, pp. 1384-1388, 2007.\n",
      "10. Phạm Văn Chung, Dương Tuấn Anh, “ Applying Temporal Abstraction in Clinical Databases” proceedings of  IEEE,5th International Conference, RIVF’07, Hà nội, 3/2007, pp 192-199.\n",
      "11. Lê văn Quốc Anh, Phạm văn Chung, Dương Tuấn Anh, “Implementation of Valid-time Indeterminacy in Temporal Clinical Database”, Proceedings of  International Workshop on Advanced Computing and Applications, ACOMP 2007, HoChiMinh City, 14-16 March 2007, pp. 8-14.\n",
      "12. Phạm văn Chung “Kiểm tra ràng buộc toàn vẹn của dữ liệu trong cơ sở dữ liệu hướng thời gian”, kỷ yếu  Hội nghị khoa học lần thứ 2, ĐH Công nghiệp, 7/2007, tập 1, trang 1-8. \n",
      "\n",
      "Nguyen H. Vo, , Minh-Tuan T. Hoang, Jung-Ja Kim and Yonggwan Won, \"\", WSEAS Transaction on Computer Research, pp.102-107, 2006.\n",
      "2.  Hieu Trung Huynh, Nguyen H. Vo, Minh-Tuan T. Hoang and Yonggwan Won, \"An Improvement of Outlier Detection in Linear Regression based on Area-Descent\", WSEAS Transactions on Computer Research, pp.174-180, 2006.\n",
      "3.  Huynh Trung Hieu and Yonggwan Won, \"A Method for Outlier Detection based on Area Descent\", Processdings of the 21th Int\\&sharp39l Technical Conference on Circuits/Systems, Computers and Communications, vol. 1, pp. 193-196, 2006.\n",
      "4.  Huynh Trung Hieu and Yonggwan Won, \"An Improvement of Linear Regression with Elimination of Outliers detected by Area-Descent\", Processdings of the 21th Int\\&sharp39l Technical Conference on Circuits/Systems, Computers and Communications, vol. 1, pp. 197-200, 2006.\n",
      "5.  Hieu Trung Huynh, Minh-Tuan T. Hoang, Nguyen H. Vo and Yonggwan Won, \"Outlier Detection with Two-Stage Area-Descent Method for Linear Regression\", Proceedings of the WSEAS International Conference on Applied Computer Science, pp.463-468, December 2006.\n",
      "6.  Nguyen H. Vo, Minh-Tuan T. Hoang, Hieu T. Huynh, Jung-Ja Kim and Yonggwan Won, \"Iterative Extreme Learning Machine for Single Class Classifier using General Mapping Convergence Framework\", Proceedings of the WSEAS International Conference on Applied Computer Science, pp.463-468, December 2006.\n",
      "7.  Phạm văn Chung, Dương Tuấn Anh, “Temporal Abstraction from Temporal Clinical Databases using Inference Graphs”, IEEE,Proceedings of theInternational Symposium on Communications And Information Technologies, ISBN: 0-703-9741-X, 18-20 October 2006, Bangkok, Thailand.\n",
      "8.  Phạm Văn Chung, Dương Tuấn Anh, “Tiền xử lý dữ liệu có tính thời gian như là kiểm tra ràng buộc toàn vẹn thời gian”, kỷ yếu Hội thảo quốc gia lần thứ IX, Nhà xuất bản Khoa học và kỹ thuật Hà nội,6/2006, Đà lạt.\n",
      "9.  Phạm Xuân Khánh, Hà Minh Nhật, Phạm Văn Chung, “Dùng mã nguồn mở để biên dịch câu truy vấn có yếu tố thời gian, thực thi trên Oracle từ C++”, kỷ yếu Hội thảo quốc gia lần thứ IX, Nhà xuất bản Khoa học và kỹ thuật Hà nội,6/2006, Đà lạt.\n",
      "\n",
      "  , Dương Tuấn Anh, 2005, Implementing a Query Sublanguage for Temporal Clinical Database Systems, Proceedings of the International Symposium on Information & Communications Technologies 2005, Malaysia, 24-25th November, 2005, pp. (TS12) 13-16.\n",
      "2.  Phạm văn Chung, Dương Tuấn Anh, “A Query Sublanguage for Temporal Clinical Database Systems and its Implementation”, tạp chí Tin học và Điều khiển học, tập 21, số 4, trang 293-300, năm 2005.\n",
      "Năm 2004\n",
      "1.  Huynh Trung Hieu and Nguyen Huu Anh, \"Fractal Image Compression based on Coefficients of Wavelet Transform\", Journal of Science and Technology Development, vol. 7, no. 4&5, Vietnam (2004), pp. 14-20.\n",
      "\n"
     ]
    }
   ],
   "source": [
    "research=[]\n",
    "if response.status_code == 200:\n",
    "    soup=BeautifulSoup(response.text, 'html.parser')\n",
    "    tag=soup.select_one('div.content-list')\n",
    "    for i in tag.select('div.content'):\n",
    "        result=i.select_one('a').get('href')\n",
    "        new_url='https://fit.iuh.edu.vn/'+result\n",
    "        new_response=requests.get(new_url)\n",
    "        if new_response.status_code == 200:\n",
    "            new_soup=BeautifulSoup(new_response.text, 'html.parser')\n",
    "            title=new_soup.select_one('div.page-title').text\n",
    "            title_data=new_soup.select_one('div.title-date').text\n",
    "            data=new_soup.select_one('div.left-content').text\n",
    "            print(data)\n",
    "            research.append({\n",
    "                'Title':title,\n",
    "                'Date':title_data,\n",
    "                'data':data\n",
    "            })\n",
    "df=pd.DataFrame(research)\n",
    "df.to_csv('research.csv', index=False, encoding='utf-8')\n",
    "\n",
    "    "
   ]
  },
  {
   "cell_type": "code",
   "execution_count": null,
   "metadata": {},
   "outputs": [],
   "source": []
  }
 ],
 "metadata": {
  "kernelspec": {
   "display_name": "Python 3",
   "language": "python",
   "name": "python3"
  },
  "language_info": {
   "codemirror_mode": {
    "name": "ipython",
    "version": 3
   },
   "file_extension": ".py",
   "mimetype": "text/x-python",
   "name": "python",
   "nbconvert_exporter": "python",
   "pygments_lexer": "ipython3",
   "version": "3.11.7"
  }
 },
 "nbformat": 4,
 "nbformat_minor": 2
}
