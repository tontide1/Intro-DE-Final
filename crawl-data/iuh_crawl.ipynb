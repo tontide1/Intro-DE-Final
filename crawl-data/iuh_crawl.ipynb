{
 "cells": [
  {
   "cell_type": "code",
   "execution_count": 6,
   "metadata": {},
   "outputs": [],
   "source": [
    "from selenium.webdriver.chrome.service import Service\n",
    "from selenium.webdriver.common.by import By\n",
    "from selenium import webdriver\n",
    "import pandas as pd\n",
    "from docx import Document\n",
    "import time"
   ]
  },
  {
   "cell_type": "code",
   "execution_count": 15,
   "metadata": {},
   "outputs": [],
   "source": [
    "website = 'https://vi.wikipedia.org/wiki/Tr%C6%B0%E1%BB%9Dng_%C4%90%E1%BA%A1i_h%E1%BB%8Dc_C%C3%B4ng_nghi%E1%BB%87p_Th%C3%A0nh_ph%E1%BB%91_H%E1%BB%93_Ch%C3%AD_Minh'\n",
    "driver = webdriver.Chrome()\n",
    "driver.maximize_window()\n",
    "driver.implicitly_wait(10)\n",
    "driver.get(website)\n",
    "\n",
    "content = driver.find_element(By.ID, 'mw-content-text').text\n",
    "\n",
    "document = Document()\n",
    "document.add_paragraph(content)\n",
    "document.save('iuh_content.docx') \n",
    "\n",
    "driver.quit()"
   ]
  },
  {
   "cell_type": "code",
   "execution_count": 14,
   "metadata": {},
   "outputs": [
    {
     "name": "stdout",
     "output_type": "stream",
     "text": [
      "Lịch sử hình thành và phát triển\n"
     ]
    }
   ],
   "source": [
    "from selenium import webdriver\n",
    "from selenium.webdriver.common.by import By\n",
    "import csv\n",
    "\n",
    "website = 'https://vi.wikipedia.org/wiki/Tr%C6%B0%E1%BB%9Dng_%C4%90%E1%BA%A1i_h%E1%BB%8Dc_C%C3%B4ng_nghi%E1%BB%87p_Th%C3%A0nh_ph%E1%BB%91_H%E1%BB%93_Ch%C3%AD_Minh'\n",
    "driver = webdriver.Chrome()\n",
    "driver.maximize_window()\n",
    "driver.implicitly_wait(10)\n",
    "driver.get(website)\n",
    "\n",
    "# Lấy nội dung văn bản\n",
    "# content = driver.find_element(By.ID, 'mw-content-text').text\n",
    "\n",
    "# Lấy tiêu đề bài viết\n",
    "title = driver.find_element(By.ID, 'firstHeading').text\n",
    "\n",
    "\n",
    "# Lich su hinh thanh\n",
    "history_title = driver.find_element(By.ID, 'Lịch_sử_hình_thành_và_phát_triển').text\n",
    "history_content = driver.find_elements(By.TAG_NAME, 'p')\n",
    "history_contents = []\n",
    "\n",
    "for history in in history_content:\n",
    "    history_content.append()\n",
    "\n",
    "# # Lấy thông tin về trường đại học\n",
    "# info_elements = driver.find_elements(By.CSS_SELECTOR, '.mw-infobox-row')\n",
    "# # info = {}\n",
    "# # for element in info_elements:\n",
    "# #     key = element.find_element(By.CSS_SELECTOR, '.mw-infobox-label').text\n",
    "# #     value = element.find_element(By.CSS_SELECTOR, '.mw-infobox-content').text\n",
    "# #     info[key] = value\n",
    "\n",
    "# # Lấy danh sách khoa/ngành đào tạo\n",
    "# khoa_nganh_elements = driver.find_elements(By.CSS_SELECTOR, '.mw-collapsible-toggle')\n",
    "# khoa_nganh = []\n",
    "# for element in khoa_nganh_elements:\n",
    "#     if element.is_displayed():\n",
    "#         khoa_nganh.append(element.text)\n",
    "\n",
    "# # Mở file CSV để ghi dữ liệu\n",
    "# with open('iuh_data.csv', 'w', newline='') as csvfile:\n",
    "#     # Tạo writer object\n",
    "#     writer = csv.writer(csvfile)\n",
    "\n",
    "#     # Ghi header\n",
    "#     writer.writerow(['Tiêu đề', 'Nội dung', 'Thông tin', 'Khoa/Ngành'])\n",
    "\n",
    "#     # Ghi dữ liệu\n",
    "#     writer.writerow([title, content, info, khoa_nganh])\n",
    "\n",
    "# Đóng trình duyệt web\n",
    "driver.quit()\n"
   ]
  }
 ],
 "metadata": {
  "kernelspec": {
   "display_name": "Python 3",
   "language": "python",
   "name": "python3"
  },
  "language_info": {
   "codemirror_mode": {
    "name": "ipython",
    "version": 3
   },
   "file_extension": ".py",
   "mimetype": "text/x-python",
   "name": "python",
   "nbconvert_exporter": "python",
   "pygments_lexer": "ipython3",
   "version": "3.10.11"
  }
 },
 "nbformat": 4,
 "nbformat_minor": 2
}
